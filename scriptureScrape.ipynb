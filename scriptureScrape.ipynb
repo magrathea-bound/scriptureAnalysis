{
 "cells": [
  {
   "cell_type": "code",
   "execution_count": 16,
   "id": "a464a5f2-8e18-462f-8b16-024044fef2e7",
   "metadata": {
    "tags": []
   },
   "outputs": [],
   "source": [
    "import requests\n",
    "from bs4 import BeautifulSoup\n",
    "import polars as pl"
   ]
  },
  {
   "cell_type": "code",
   "execution_count": 26,
   "id": "ef7104ab-c582-4839-accc-524553b46d59",
   "metadata": {
    "tags": []
   },
   "outputs": [],
   "source": [
    "def scripQuery(work, book, ch):\n",
    "    url = f\"https://www.churchofjesuschrist.org/study/scriptures/{work}/{book}/{ch}?lang=eng\"\n",
    "    response = requests.get(url)\n",
    "    soup = BeautifulSoup(response.text, 'html.parser')\n",
    "    body = soup.find('div', class_ = 'body-block')\n",
    "    return body\n"
   ]
  },
  {
   "cell_type": "code",
   "execution_count": 20,
   "id": "22f731df-aa4a-40fd-b894-128564a6653c",
   "metadata": {},
   "outputs": [],
   "source": [
    "scrip = pl.DataFrame(\n",
    "    schema={\"work\": pl.Utf8, \"book\":pl.Utf8, \"noCh\":pl.Int32, \"bookName\":pl.Utf8, \"workName\":pl.Utf8}\n",
    ")\n",
    "scripList = pl.read_csv(\n",
    "    \"Data/scriptureList.csv\"\n",
    "    )"
   ]
  },
  {
   "cell_type": "code",
   "execution_count": 27,
   "id": "e40af7ea-76e4-4562-92fe-eef0f6bab3f4",
   "metadata": {
    "tags": []
   },
   "outputs": [
    {
     "name": "stdout",
     "output_type": "stream",
     "text": [
      "1AndJoseph fell upon his fatherâs face, andwept upon him, and kissed him.\n",
      "\n",
      "2And Joseph commanded his servants the physicians toembalm his father: and the physicians embalmed Israel.\n",
      "\n",
      "3And forty days were fulfilled for him; for so are fulfilled the days of those which are embalmed: and the Egyptians mourned for him threescore and ten days.\n",
      "\n",
      "4And when the days of his mourning were past, Joseph spake unto the house of Pharaoh, saying, If now I have found grace in your eyes, speak, I pray you, in the ears of Pharaoh, saying,\n",
      "\n",
      "5My father made me swear, saying, Lo, I die: in mygrave which I have digged for me in the land of Canaan, there shalt thou bury me. Now therefore let me go up, I pray thee, and bury my father, and I will come again.\n",
      "\n",
      "6And Pharaoh said, Go up, and bury thy father, according as he made thee swear.\n",
      "\n",
      "7Â¶And Joseph went up to bury his father: and with him went up all the servants of Pharaoh, the elders of his house, and all the elders of the land of Egypt,\n",
      "\n",
      "8And all the house of Joseph, and his brethren, and his fatherâs house: only their little ones, and their flocks, and their herds, they left in the land ofGoshen.\n",
      "\n",
      "9And there went up with him both chariots and horsemen: and it was a very great company.\n",
      "\n",
      "10And they came to the threshingfloor of Atad, whichis beyond Jordan, and there theymourned with a great and very sore lamentation: and he made amourning for his father seven days.\n",
      "\n",
      "11And when the inhabitants of the land, the Canaanites, saw the mourning in the floor of Atad, they said, Thisis a grievous mourning to the Egyptians: wherefore the name of it was calledAbel-mizraim, whichis beyond Jordan.\n",
      "\n",
      "12And his sons did unto him according as he commanded them:\n",
      "\n",
      "13For his sonscarried him into the land of Canaan, and buried him in the cave of the field of Machpelah, which Abraham bought with the field for a possession of aburyingplace ofEphron the Hittite, before Mamre.\n",
      "\n",
      "14Â¶And Joseph returned into Egypt, he, and his brethren, and all that went up with him to bury his father, after he had buried his father.\n",
      "\n",
      "15Â¶And when Josephâs brethren saw that their father was dead, they said,Joseph will peradventure hate us, and will certainly requite us all the evil which we did unto him.\n",
      "\n",
      "16And they sent a messenger unto Joseph, saying, Thy father did command before he died, saying,\n",
      "\n",
      "17So shall ye say unto Joseph,Forgive, I pray thee now, the trespass of thy brethren, and their sin; for they did unto thee evil: and now, we pray thee, forgive the trespass of the servants of the God of thy father. And Josephwept when they spake unto him.\n",
      "\n",
      "18And his brethren also went and fell down before his face; and they said, Behold, webe thyservants.\n",
      "\n",
      "19And Joseph said unto them, Fear not: foram I in the place of God?\n",
      "\n",
      "20But as for you, ye thoughtevil against me;but Godmeant it untogood, to bring to pass, asit is this day, to save much people alive.\n",
      "\n",
      "21Now therefore fear ye not: I willnourish you, and your little ones. And he comforted them, and spake kindly unto them.\n",
      "\n",
      "22Â¶AndJoseph dwelt in Egypt, he, and his fatherâs house: and Joseph lived an hundred and ten years.\n",
      "\n",
      "23And Joseph saw Ephraimâschildren of the thirdgeneration: the children also of Machir the son ofManasseh were brought up upon Josephâs knees.\n",
      "\n",
      "24And Joseph said unto his brethren, I die: and God will surely visit you, andbring you out of this land unto theland which he sware toAbraham, to Isaac, and to Jacob.\n",
      "\n",
      "25And Joseph took anoath of the children of Israel, saying, God will surely visit you, and ye shall carry up mybones from hence.\n",
      "\n",
      "26SoJosephdied,being an hundred and ten years old: and theyembalmed him, and he was put in a coffin in Egypt.\n",
      "\n"
     ]
    }
   ],
   "source": [
    "i=0\n",
    "for row in scripList.iter_rows():\n",
    "    body = scripQuery(row[0], row[1], row[2])\n",
    "\n",
    "    for verse in body.find_all('p'):\n",
    "        ver = ''\n",
    "        for string in verse.strings:\n",
    "            ver += string\n",
    "            ver = ver.strip()\n",
    "        print(ver + '\\n')\n",
    "\n",
    "    if i == 0:\n",
    "        break\n",
    "    "
   ]
  },
  {
   "cell_type": "code",
   "execution_count": 23,
   "id": "999283a1",
   "metadata": {},
   "outputs": [
    {
     "name": "stdout",
     "output_type": "stream",
     "text": [
      "1 I, Nephi, having been born of goodly parents, therefore I was taught somewhat in all the learning of my father; and having seen many afflictions in the course of my days, nevertheless, having been highly favored of the Lord in all my days; yea, having had a great knowledge of the goodness and the mysteries of God, therefore I make a record of my proceedings in my days.\n",
      "\n",
      "2 Yea, I make a record in the language of my father, which consists of the learning of the Jews and the language of the Egyptians.\n",
      "\n",
      "3 And I know that the record which I make is true; and I make it with mine own hand; and I make it according to my knowledge.\n",
      "\n",
      "4 For it came to pass in the commencement of the first year of the reign of Zedekiah, king of Judah, (my father, Lehi, having dwelt at Jerusalem in all his days); and in that same year there came many prophets, prophesying unto the people that they must repent, or the great city Jerusalem must be destroyed.\n",
      "\n",
      "5 Wherefore it came to pass that my father, Lehi, as he went forth prayed unto the Lord, yea, even with all his heart, in behalf of his people.\n",
      "\n",
      "6 And it came to pass as he prayed unto the Lord, there came a pillar of fire and dwelt upon a rock before him; and he saw and heard much; and because of the things which he saw and heard he did quake and tremble exceedingly.\n",
      "\n",
      "7 And it came to pass that he returned to his own house at Jerusalem; and he cast himself upon his bed, being overcome with the Spirit and the things which he had seen.\n",
      "\n",
      "8 And being thus overcome with the Spirit, he was carried away in a vision, even that he saw the heavens open, and he thought he saw God sitting upon his throne, surrounded with numberless concourses of angels in the attitude of singing and praising their God.\n",
      "\n",
      "9 And it came to pass that he saw One descending out of the midst of heaven, and he beheld that his luster was above that of the sun at noon-day.\n",
      "\n",
      "10 And he also saw twelve others following him, and their brightness did exceed that of the stars in the firmament.\n",
      "\n",
      "11 And they came down and went forth upon the face of the earth; and the first came and stood before my father, and gave unto him a book, and bade him that he should read.\n",
      "\n",
      "12 And it came to pass that as he read, he was filled with the Spirit of the Lord.\n",
      "\n",
      "13 And he read, saying: Wo, wo, unto Jerusalem, for I have seen thine abominations! Yea, and many things did my father read concerning Jerusalemâthat it should be destroyed, and the inhabitants thereof; many should perish by the sword, and many should be carried away captive into Babylon.\n",
      "\n",
      "14 And it came to pass that when my father had read and seen many great and marvelous things, he did exclaim many things unto the Lord; such as: Great and marvelous are thy works, O Lord God Almighty! Thy throne is high in the heavens, and thy power, and goodness, and mercy are over all the inhabitants of the earth; and, because thou art merciful, thou wilt not suffer those who come unto thee that they shall perish!\n",
      "\n",
      "15 And after this manner was the language of my father in the praising of his God; for his soul did rejoice, and his whole heart was filled, because of the things which he had seen, yea, which the Lord had shown unto him.\n",
      "\n",
      "16 And now I, Nephi, do not make a full account of the things which my father hath written, for he hath written many things which he saw in visions and in dreams; and he also hath written many things which he prophesied and spake unto his children, of which I shall not make a full account.\n",
      "\n",
      "17 But I shall make an account of my proceedings in my days. Behold, I make an abridgment of the record of my father, upon plates which I have made with mine own hands; wherefore, after I have abridged the record of my father then will I make an account of mine own life.\n",
      "\n",
      "18 Therefore, I would that ye should know, that after the Lord had shown so many marvelous things unto my father, Lehi, yea, concerning the destruction of Jerusalem, behold he went forth among the people, and began to prophesy and to declare unto them concerning the things which he had both seen and heard.\n",
      "\n",
      "19 And it came to pass that the Jews did mock him because of the things which he testified of them; for he truly testified of their wickedness and their abominations; and he testified that the things which he saw and heard, and also the things which he read in the book, manifested plainly of the coming of a Messiah, and also the redemption of the world.\n",
      "\n",
      "20 And when the Jews heard these things they were angry with him; yea, even as with the prophets of old, whom they had cast out, and stoned, and slain; and they also sought his life, that they might take it away. But behold, I, Nephi, will show unto you that the tender mercies of the Lord are over all those whom he hath chosen, because of their faith, to make them mighty even unto the power of deliverance.\n",
      "\n"
     ]
    }
   ],
   "source": []
  },
  {
   "cell_type": "code",
   "execution_count": null,
   "id": "30c8d096",
   "metadata": {},
   "outputs": [],
   "source": []
  }
 ],
 "metadata": {
  "kernelspec": {
   "display_name": "Python 3",
   "language": "python",
   "name": "python3"
  },
  "language_info": {
   "codemirror_mode": {
    "name": "ipython",
    "version": 3
   },
   "file_extension": ".py",
   "mimetype": "text/x-python",
   "name": "python",
   "nbconvert_exporter": "python",
   "pygments_lexer": "ipython3",
   "version": "3.13.1"
  }
 },
 "nbformat": 4,
 "nbformat_minor": 5
}
